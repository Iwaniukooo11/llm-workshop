{
 "cells": [
  {
   "cell_type": "markdown",
   "id": "52e8d046",
   "metadata": {},
   "source": [
    "# Models"
   ]
  },
  {
   "cell_type": "markdown",
   "id": "0155268e",
   "metadata": {},
   "source": [
    "## distilbert-base-uncased-finetuned-sst-2-english"
   ]
  },
  {
   "cell_type": "markdown",
   "id": "391f4db4",
   "metadata": {},
   "source": [
    "distilbert-base-uncased-finetuned-sst-2-english\n",
    "Binary sentiment (POSITIVE / NEGATIVE)\n",
    "https://huggingface.co/distilbert/distilbert-base-uncased-finetuned-sst-2-english"
   ]
  },
  {
   "cell_type": "markdown",
   "id": "05b1b541",
   "metadata": {},
   "source": [
    "## SamLowe/roberta-base-go_emotions\t"
   ]
  },
  {
   "cell_type": "markdown",
   "id": "df6ecc4c",
   "metadata": {},
   "source": [
    "SamLowe/roberta-base-go_emotions\t\n",
    "28 fine-grained emotions (admiration → worry)\n",
    "https://huggingface.co/SamLowe/roberta-base-go_emotions"
   ]
  },
  {
   "cell_type": "markdown",
   "id": "3d90be84",
   "metadata": {},
   "source": [
    "## unitary/unbiased-toxic-roberta\t"
   ]
  },
  {
   "cell_type": "markdown",
   "id": "95c5e356",
   "metadata": {},
   "source": [
    "unitary/unbiased-toxic-roberta\t\n",
    "\n",
    "Toxicity & six sub-types (toxic, severe_toxic, obscene, etc.)\n",
    "\n",
    "\n",
    "https://huggingface.co/unitary/unbiased-toxic-roberta"
   ]
  },
  {
   "cell_type": "markdown",
   "id": "612d8a3b",
   "metadata": {},
   "source": [
    "## Hate-speech-CNERG/dehatebert-mono-english"
   ]
  },
  {
   "cell_type": "markdown",
   "id": "2a8462d1",
   "metadata": {},
   "source": [
    "Hate-speech-CNERG/dehatebert-mono-english\n",
    "Hate / non-hate\n",
    "https://huggingface.co/Hate-speech-CNERG/dehatebert-mono-english"
   ]
  },
  {
   "cell_type": "markdown",
   "id": "54cd3ed3",
   "metadata": {},
   "source": [
    "## classla/multilingual-IPTC-news-topic-classifier"
   ]
  },
  {
   "cell_type": "markdown",
   "id": "7bbd7873",
   "metadata": {},
   "source": [
    "classla/multilingual-IPTC-news-topic-classifier\n",
    "\n",
    "205 IPTC NewsCodes topics (e.g., crime, culture, health)\n",
    "\n",
    "https://huggingface.co/classla/multilingual-IPTC-news-topic-classifier"
   ]
  }
 ],
 "metadata": {
  "language_info": {
   "name": "python"
  }
 },
 "nbformat": 4,
 "nbformat_minor": 5
}
