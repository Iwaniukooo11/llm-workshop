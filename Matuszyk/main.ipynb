{
 "cells": [
  {
   "cell_type": "markdown",
   "id": "52e8d046",
   "metadata": {},
   "source": [
    "# Models"
   ]
  },
  {
   "cell_type": "markdown",
   "id": "0e02276e",
   "metadata": {},
   "source": [
    "## imports"
   ]
  },
  {
   "cell_type": "code",
   "execution_count": 3,
   "id": "934ecffe",
   "metadata": {},
   "outputs": [
    {
     "name": "stdout",
     "output_type": "stream",
     "text": [
      "Collecting datasets\n",
      "  Downloading datasets-3.6.0-py3-none-any.whl.metadata (19 kB)\n",
      "Collecting filelock (from datasets)\n",
      "  Downloading filelock-3.18.0-py3-none-any.whl.metadata (2.9 kB)\n",
      "Requirement already satisfied: numpy>=1.17 in c:\\programming\\python\\versions\\3.13\\lib\\site-packages (from datasets) (2.2.3)\n",
      "Collecting pyarrow>=15.0.0 (from datasets)\n",
      "  Downloading pyarrow-20.0.0-cp313-cp313-win_amd64.whl.metadata (3.4 kB)\n",
      "Collecting dill<0.3.9,>=0.3.0 (from datasets)\n",
      "  Downloading dill-0.3.8-py3-none-any.whl.metadata (10 kB)\n",
      "Requirement already satisfied: pandas in c:\\programming\\python\\versions\\3.13\\lib\\site-packages (from datasets) (2.2.3)\n",
      "Requirement already satisfied: requests>=2.32.2 in c:\\programming\\python\\versions\\3.13\\lib\\site-packages (from datasets) (2.32.3)\n",
      "Requirement already satisfied: tqdm>=4.66.3 in c:\\programming\\python\\versions\\3.13\\lib\\site-packages (from datasets) (4.67.1)\n",
      "Collecting xxhash (from datasets)\n",
      "  Downloading xxhash-3.5.0-cp313-cp313-win_amd64.whl.metadata (13 kB)\n",
      "Collecting multiprocess<0.70.17 (from datasets)\n",
      "  Downloading multiprocess-0.70.16-py312-none-any.whl.metadata (7.2 kB)\n",
      "Collecting fsspec<=2025.3.0,>=2023.1.0 (from fsspec[http]<=2025.3.0,>=2023.1.0->datasets)\n",
      "  Downloading fsspec-2025.3.0-py3-none-any.whl.metadata (11 kB)\n",
      "Collecting huggingface-hub>=0.24.0 (from datasets)\n",
      "  Downloading huggingface_hub-0.32.0-py3-none-any.whl.metadata (14 kB)\n",
      "Requirement already satisfied: packaging in c:\\programming\\python\\versions\\3.13\\lib\\site-packages (from datasets) (24.2)\n",
      "Collecting pyyaml>=5.1 (from datasets)\n",
      "  Using cached PyYAML-6.0.2-cp313-cp313-win_amd64.whl.metadata (2.1 kB)\n",
      "Collecting aiohttp!=4.0.0a0,!=4.0.0a1 (from fsspec[http]<=2025.3.0,>=2023.1.0->datasets)\n",
      "  Downloading aiohttp-3.11.18-cp313-cp313-win_amd64.whl.metadata (8.0 kB)\n",
      "Requirement already satisfied: typing-extensions>=3.7.4.3 in c:\\programming\\python\\versions\\3.13\\lib\\site-packages (from huggingface-hub>=0.24.0->datasets) (4.13.0)\n",
      "Requirement already satisfied: charset-normalizer<4,>=2 in c:\\programming\\python\\versions\\3.13\\lib\\site-packages (from requests>=2.32.2->datasets) (3.4.1)\n",
      "Requirement already satisfied: idna<4,>=2.5 in c:\\programming\\python\\versions\\3.13\\lib\\site-packages (from requests>=2.32.2->datasets) (3.10)\n",
      "Requirement already satisfied: urllib3<3,>=1.21.1 in c:\\programming\\python\\versions\\3.13\\lib\\site-packages (from requests>=2.32.2->datasets) (2.3.0)\n",
      "Requirement already satisfied: certifi>=2017.4.17 in c:\\programming\\python\\versions\\3.13\\lib\\site-packages (from requests>=2.32.2->datasets) (2025.1.31)\n",
      "Requirement already satisfied: colorama in c:\\programming\\python\\versions\\3.13\\lib\\site-packages (from tqdm>=4.66.3->datasets) (0.4.6)\n",
      "Requirement already satisfied: python-dateutil>=2.8.2 in c:\\programming\\python\\versions\\3.13\\lib\\site-packages (from pandas->datasets) (2.9.0.post0)\n",
      "Requirement already satisfied: pytz>=2020.1 in c:\\programming\\python\\versions\\3.13\\lib\\site-packages (from pandas->datasets) (2025.1)\n",
      "Requirement already satisfied: tzdata>=2022.7 in c:\\programming\\python\\versions\\3.13\\lib\\site-packages (from pandas->datasets) (2025.1)\n",
      "Collecting aiohappyeyeballs>=2.3.0 (from aiohttp!=4.0.0a0,!=4.0.0a1->fsspec[http]<=2025.3.0,>=2023.1.0->datasets)\n",
      "  Downloading aiohappyeyeballs-2.6.1-py3-none-any.whl.metadata (5.9 kB)\n",
      "Collecting aiosignal>=1.1.2 (from aiohttp!=4.0.0a0,!=4.0.0a1->fsspec[http]<=2025.3.0,>=2023.1.0->datasets)\n",
      "  Downloading aiosignal-1.3.2-py2.py3-none-any.whl.metadata (3.8 kB)\n",
      "Collecting attrs>=17.3.0 (from aiohttp!=4.0.0a0,!=4.0.0a1->fsspec[http]<=2025.3.0,>=2023.1.0->datasets)\n",
      "  Using cached attrs-25.3.0-py3-none-any.whl.metadata (10 kB)\n",
      "Collecting frozenlist>=1.1.1 (from aiohttp!=4.0.0a0,!=4.0.0a1->fsspec[http]<=2025.3.0,>=2023.1.0->datasets)\n",
      "  Downloading frozenlist-1.6.0-cp313-cp313-win_amd64.whl.metadata (16 kB)\n",
      "Collecting multidict<7.0,>=4.5 (from aiohttp!=4.0.0a0,!=4.0.0a1->fsspec[http]<=2025.3.0,>=2023.1.0->datasets)\n",
      "  Downloading multidict-6.4.4-cp313-cp313-win_amd64.whl.metadata (5.5 kB)\n",
      "Collecting propcache>=0.2.0 (from aiohttp!=4.0.0a0,!=4.0.0a1->fsspec[http]<=2025.3.0,>=2023.1.0->datasets)\n",
      "  Downloading propcache-0.3.1-cp313-cp313-win_amd64.whl.metadata (11 kB)\n",
      "Collecting yarl<2.0,>=1.17.0 (from aiohttp!=4.0.0a0,!=4.0.0a1->fsspec[http]<=2025.3.0,>=2023.1.0->datasets)\n",
      "  Downloading yarl-1.20.0-cp313-cp313-win_amd64.whl.metadata (74 kB)\n",
      "Requirement already satisfied: six>=1.5 in c:\\programming\\python\\versions\\3.13\\lib\\site-packages (from python-dateutil>=2.8.2->pandas->datasets) (1.17.0)\n",
      "Downloading datasets-3.6.0-py3-none-any.whl (491 kB)\n",
      "Downloading dill-0.3.8-py3-none-any.whl (116 kB)\n",
      "Downloading fsspec-2025.3.0-py3-none-any.whl (193 kB)\n",
      "Downloading huggingface_hub-0.32.0-py3-none-any.whl (509 kB)\n",
      "Downloading multiprocess-0.70.16-py312-none-any.whl (146 kB)\n",
      "Downloading pyarrow-20.0.0-cp313-cp313-win_amd64.whl (25.7 MB)\n",
      "   ---------------------------------------- 0.0/25.7 MB ? eta -:--:--\n",
      "   ----------- ---------------------------- 7.1/25.7 MB 63.1 MB/s eta 0:00:01\n",
      "   ---------------------------------- ----- 22.3/25.7 MB 57.9 MB/s eta 0:00:01\n",
      "   ---------------------------------------- 25.7/25.7 MB 51.0 MB/s eta 0:00:00\n",
      "Using cached PyYAML-6.0.2-cp313-cp313-win_amd64.whl (156 kB)\n",
      "Downloading filelock-3.18.0-py3-none-any.whl (16 kB)\n",
      "Downloading xxhash-3.5.0-cp313-cp313-win_amd64.whl (30 kB)\n",
      "Downloading aiohttp-3.11.18-cp313-cp313-win_amd64.whl (437 kB)\n",
      "Downloading aiohappyeyeballs-2.6.1-py3-none-any.whl (15 kB)\n",
      "Downloading aiosignal-1.3.2-py2.py3-none-any.whl (7.6 kB)\n",
      "Using cached attrs-25.3.0-py3-none-any.whl (63 kB)\n",
      "Downloading frozenlist-1.6.0-cp313-cp313-win_amd64.whl (119 kB)\n",
      "Downloading multidict-6.4.4-cp313-cp313-win_amd64.whl (38 kB)\n",
      "Downloading propcache-0.3.1-cp313-cp313-win_amd64.whl (44 kB)\n",
      "Downloading yarl-1.20.0-cp313-cp313-win_amd64.whl (92 kB)\n",
      "Installing collected packages: xxhash, pyyaml, pyarrow, propcache, multidict, fsspec, frozenlist, filelock, dill, attrs, aiohappyeyeballs, yarl, multiprocess, huggingface-hub, aiosignal, aiohttp, datasets\n",
      "Successfully installed aiohappyeyeballs-2.6.1 aiohttp-3.11.18 aiosignal-1.3.2 attrs-25.3.0 datasets-3.6.0 dill-0.3.8 filelock-3.18.0 frozenlist-1.6.0 fsspec-2025.3.0 huggingface-hub-0.32.0 multidict-6.4.4 multiprocess-0.70.16 propcache-0.3.1 pyarrow-20.0.0 pyyaml-6.0.2 xxhash-3.5.0 yarl-1.20.0\n",
      "Note: you may need to restart the kernel to use updated packages.\n"
     ]
    },
    {
     "name": "stderr",
     "output_type": "stream",
     "text": [
      "\n",
      "[notice] A new release of pip is available: 24.3.1 -> 25.1.1\n",
      "[notice] To update, run: python.exe -m pip install --upgrade pip\n"
     ]
    }
   ],
   "source": [
    "# pip install datasets"
   ]
  },
  {
   "cell_type": "code",
   "execution_count": 4,
   "id": "130f78b2",
   "metadata": {},
   "outputs": [
    {
     "name": "stderr",
     "output_type": "stream",
     "text": [
      "c:\\Programming\\Python\\versions\\3.13\\Lib\\site-packages\\tqdm\\auto.py:21: TqdmWarning: IProgress not found. Please update jupyter and ipywidgets. See https://ipywidgets.readthedocs.io/en/stable/user_install.html\n",
      "  from .autonotebook import tqdm as notebook_tqdm\n"
     ]
    }
   ],
   "source": [
    "from datasets import load_dataset"
   ]
  },
  {
   "cell_type": "markdown",
   "id": "0155268e",
   "metadata": {},
   "source": [
    "## distilbert-base-uncased-finetuned-sst-2-english"
   ]
  },
  {
   "cell_type": "markdown",
   "id": "391f4db4",
   "metadata": {},
   "source": [
    "distilbert-base-uncased-finetuned-sst-2-english\n",
    "\n",
    "Binary sentiment (POSITIVE / NEGATIVE)\n",
    "\n",
    "https://huggingface.co/distilbert/distilbert-base-uncased-finetuned-sst-2-english"
   ]
  },
  {
   "cell_type": "markdown",
   "id": "b570e574",
   "metadata": {},
   "source": [
    "https://huggingface.co/datasets/nyu-mll/glue/viewer/sst2?views[]=sst2_train"
   ]
  },
  {
   "cell_type": "code",
   "execution_count": 5,
   "id": "3c215896",
   "metadata": {},
   "outputs": [
    {
     "name": "stderr",
     "output_type": "stream",
     "text": [
      "c:\\Programming\\Python\\versions\\3.13\\Lib\\site-packages\\huggingface_hub\\file_download.py:143: UserWarning: `huggingface_hub` cache-system uses symlinks by default to efficiently store duplicated files but your machine does not support them in C:\\Users\\admin\\.cache\\huggingface\\hub\\datasets--nyu-mll--glue. Caching files will still work but in a degraded version that might require more space on your disk. This warning can be disabled by setting the `HF_HUB_DISABLE_SYMLINKS_WARNING` environment variable. For more details, see https://huggingface.co/docs/huggingface_hub/how-to-cache#limitations.\n",
      "To support symlinks on Windows, you either need to activate Developer Mode or to run Python as an administrator. In order to activate developer mode, see this article: https://docs.microsoft.com/en-us/windows/apps/get-started/enable-your-device-for-development\n",
      "  warnings.warn(message)\n",
      "Generating train split: 100%|██████████| 67349/67349 [00:00<00:00, 1380176.87 examples/s]\n",
      "Generating validation split: 100%|██████████| 872/872 [00:00<00:00, 144368.56 examples/s]\n",
      "Generating test split: 100%|██████████| 1821/1821 [00:00<00:00, 216081.35 examples/s]\n"
     ]
    }
   ],
   "source": [
    "glue_ds = load_dataset(\"nyu-mll/glue\", \"sst2\", split=\"validation\")"
   ]
  },
  {
   "cell_type": "markdown",
   "id": "05b1b541",
   "metadata": {},
   "source": [
    "## SamLowe/roberta-base-go_emotions\t"
   ]
  },
  {
   "cell_type": "markdown",
   "id": "df6ecc4c",
   "metadata": {},
   "source": [
    "SamLowe/roberta-base-go_emotions\t\n",
    "\n",
    "28 fine-grained emotions (admiration → worry)\n",
    "\n",
    "https://huggingface.co/SamLowe/roberta-base-go_emotions"
   ]
  },
  {
   "cell_type": "markdown",
   "id": "71c2c2e4",
   "metadata": {},
   "source": [
    "https://huggingface.co/datasets/SetFit/go_emotions"
   ]
  },
  {
   "cell_type": "code",
   "execution_count": 6,
   "id": "bc203f66",
   "metadata": {},
   "outputs": [
    {
     "name": "stderr",
     "output_type": "stream",
     "text": [
      "c:\\Programming\\Python\\versions\\3.13\\Lib\\site-packages\\huggingface_hub\\file_download.py:143: UserWarning: `huggingface_hub` cache-system uses symlinks by default to efficiently store duplicated files but your machine does not support them in C:\\Users\\admin\\.cache\\huggingface\\hub\\datasets--SetFit--go_emotions. Caching files will still work but in a degraded version that might require more space on your disk. This warning can be disabled by setting the `HF_HUB_DISABLE_SYMLINKS_WARNING` environment variable. For more details, see https://huggingface.co/docs/huggingface_hub/how-to-cache#limitations.\n",
      "To support symlinks on Windows, you either need to activate Developer Mode or to run Python as an administrator. In order to activate developer mode, see this article: https://docs.microsoft.com/en-us/windows/apps/get-started/enable-your-device-for-development\n",
      "  warnings.warn(message)\n",
      "Repo card metadata block was not found. Setting CardData to empty.\n",
      "Generating train split: 100%|██████████| 43410/43410 [00:00<00:00, 580129.29 examples/s]\n",
      "Generating validation split: 100%|██████████| 5426/5426 [00:00<00:00, 297408.50 examples/s]\n",
      "Generating test split: 100%|██████████| 5427/5427 [00:00<00:00, 353356.02 examples/s]\n"
     ]
    }
   ],
   "source": [
    "go_emotion_ds = load_dataset(\"SetFit/go_emotions\", split=\"test\")"
   ]
  },
  {
   "cell_type": "markdown",
   "id": "3d90be84",
   "metadata": {},
   "source": [
    "## unitary/unbiased-toxic-roberta\t"
   ]
  },
  {
   "cell_type": "markdown",
   "id": "95c5e356",
   "metadata": {},
   "source": [
    "unitary/unbiased-toxic-roberta\t\n",
    "\n",
    "Toxicity & six sub-types (toxic, severe_toxic, obscene, etc.)\n",
    "\n",
    "\n",
    "https://huggingface.co/unitary/unbiased-toxic-roberta"
   ]
  },
  {
   "cell_type": "markdown",
   "id": "7cbbf777",
   "metadata": {},
   "source": [
    "https://huggingface.co/datasets/google/civil_comments"
   ]
  },
  {
   "cell_type": "code",
   "execution_count": 11,
   "id": "dc4064bd",
   "metadata": {},
   "outputs": [
    {
     "name": "stderr",
     "output_type": "stream",
     "text": [
      "c:\\Programming\\Python\\versions\\3.13\\Lib\\site-packages\\huggingface_hub\\file_download.py:143: UserWarning: `huggingface_hub` cache-system uses symlinks by default to efficiently store duplicated files but your machine does not support them in C:\\Users\\admin\\.cache\\huggingface\\hub\\datasets--google--civil_comments. Caching files will still work but in a degraded version that might require more space on your disk. This warning can be disabled by setting the `HF_HUB_DISABLE_SYMLINKS_WARNING` environment variable. For more details, see https://huggingface.co/docs/huggingface_hub/how-to-cache#limitations.\n",
      "To support symlinks on Windows, you either need to activate Developer Mode or to run Python as an administrator. In order to activate developer mode, see this article: https://docs.microsoft.com/en-us/windows/apps/get-started/enable-your-device-for-development\n",
      "  warnings.warn(message)\n",
      "Generating train split: 100%|██████████| 1804874/1804874 [00:01<00:00, 1347771.56 examples/s]\n",
      "Generating validation split: 100%|██████████| 97320/97320 [00:00<00:00, 1262182.02 examples/s]\n",
      "Generating test split: 100%|██████████| 97320/97320 [00:00<00:00, 1309559.40 examples/s]\n"
     ]
    }
   ],
   "source": [
    "civil_comments_ds = load_dataset(\"google/civil_comments\", split=\"test\")"
   ]
  },
  {
   "cell_type": "markdown",
   "id": "612d8a3b",
   "metadata": {},
   "source": [
    "## Hate-speech-CNERG/dehatebert-mono-english"
   ]
  },
  {
   "cell_type": "markdown",
   "id": "2a8462d1",
   "metadata": {},
   "source": [
    "Hate-speech-CNERG/dehatebert-mono-english\n",
    "\n",
    "Hate / non-hate\n",
    "\n",
    "https://huggingface.co/Hate-speech-CNERG/dehatebert-mono-english"
   ]
  },
  {
   "cell_type": "markdown",
   "id": "7327b62c",
   "metadata": {},
   "source": [
    "https://huggingface.co/datasets/Hate-speech-CNERG/hatexplain"
   ]
  },
  {
   "cell_type": "code",
   "execution_count": 13,
   "id": "9dd387a6",
   "metadata": {},
   "outputs": [
    {
     "name": "stderr",
     "output_type": "stream",
     "text": [
      "Downloading data: 100%|██████████| 12.3M/12.3M [00:00<00:00, 31.9MB/s]\n",
      "Downloading data: 100%|██████████| 592k/592k [00:00<00:00, 88.4MB/s]\n",
      "Generating train split: 100%|██████████| 15383/15383 [00:01<00:00, 12656.81 examples/s]\n",
      "Generating validation split: 100%|██████████| 1922/1922 [00:00<00:00, 5357.13 examples/s]\n",
      "Generating test split: 100%|██████████| 1924/1924 [00:00<00:00, 4527.73 examples/s]\n"
     ]
    }
   ],
   "source": [
    "hateexplain_ds = load_dataset(\"Hate-speech-CNERG/hatexplain\", split=\"test\", trust_remote_code=True)"
   ]
  },
  {
   "cell_type": "markdown",
   "id": "54cd3ed3",
   "metadata": {},
   "source": [
    "## classla/multilingual-IPTC-news-topic-classifier"
   ]
  },
  {
   "cell_type": "markdown",
   "id": "7bbd7873",
   "metadata": {},
   "source": [
    "classla/multilingual-IPTC-news-topic-classifier\n",
    "\n",
    "205 IPTC NewsCodes topics (e.g., crime, culture, health)\n",
    "\n",
    "https://huggingface.co/classla/multilingual-IPTC-news-topic-classifier"
   ]
  },
  {
   "cell_type": "markdown",
   "id": "6cab35ae",
   "metadata": {},
   "source": [
    "no good test dataset could be found"
   ]
  }
 ],
 "metadata": {
  "kernelspec": {
   "display_name": "Python 3",
   "language": "python",
   "name": "python3"
  },
  "language_info": {
   "codemirror_mode": {
    "name": "ipython",
    "version": 3
   },
   "file_extension": ".py",
   "mimetype": "text/x-python",
   "name": "python",
   "nbconvert_exporter": "python",
   "pygments_lexer": "ipython3",
   "version": "3.13.2"
  }
 },
 "nbformat": 4,
 "nbformat_minor": 5
}
