{
 "cells": [
  {
   "cell_type": "code",
   "execution_count": 1,
   "id": "72d464e3",
   "metadata": {},
   "outputs": [],
   "source": [
    "# %pip install datasets matplotlib torch shap\n",
    "# %pip install transformers\n",
    "# %pip install lime"
   ]
  },
  {
   "cell_type": "code",
   "execution_count": null,
   "id": "90c5af38",
   "metadata": {},
   "outputs": [
    {
     "name": "stderr",
     "output_type": "stream",
     "text": [
      "/home/iwaniukooo/Documents/Projects/wb2-llm/.venv/lib/python3.11/site-packages/tqdm/auto.py:21: TqdmWarning: IProgress not found. Please update jupyter and ipywidgets. See https://ipywidgets.readthedocs.io/en/stable/user_install.html\n",
      "  from .autonotebook import tqdm as notebook_tqdm\n"
     ]
    }
   ],
   "source": [
    "\n",
    "from custom_model import EmotionClassifier\n",
    "from datasets import load_dataset \n",
    "import matplotlib.pyplot as plt\n",
    "from torch.utils.data import DataLoader \n",
    "import shap "
   ]
  },
  {
   "cell_type": "code",
   "execution_count": null,
   "id": "ae006012",
   "metadata": {},
   "outputs": [
    {
     "data": {
      "text/plain": [
       "['admiration',\n",
       " 'amusement',\n",
       " 'anger',\n",
       " 'annoyance',\n",
       " 'approval',\n",
       " 'caring',\n",
       " 'confusion',\n",
       " 'curiosity',\n",
       " 'desire',\n",
       " 'disappointment',\n",
       " 'disapproval',\n",
       " 'disgust',\n",
       " 'embarrassment',\n",
       " 'excitement',\n",
       " 'fear',\n",
       " 'gratitude',\n",
       " 'grief',\n",
       " 'joy',\n",
       " 'love',\n",
       " 'nervousness',\n",
       " 'optimism',\n",
       " 'pride',\n",
       " 'realization',\n",
       " 'relief',\n",
       " 'remorse',\n",
       " 'sadness',\n",
       " 'surprise',\n",
       " 'neutral']"
      ]
     },
     "execution_count": 3,
     "metadata": {},
     "output_type": "execute_result"
    }
   ],
   "source": [
    "\n",
    "with open(\"dict.txt\", \"r\") as f:\n",
    "    emotion_dict = [line.strip() for line in f]\n",
    "\n",
    "emotion_dict"
   ]
  },
  {
   "cell_type": "code",
   "execution_count": null,
   "id": "0722eec8",
   "metadata": {},
   "outputs": [
    {
     "name": "stdout",
     "output_type": "stream",
     "text": [
      "Loading go_emotions dataset...\n",
      "Loaded 4000 training samples and 500 validation samples.\n"
     ]
    }
   ],
   "source": [
    "\n",
    "\n",
    "\n",
    "classifier = EmotionClassifier(device='cpu')  \n",
    "\n",
    "\n",
    "\n",
    "\n",
    "print(\"Loading go_emotions dataset...\")\n",
    "dataset = load_dataset(\"go_emotions\", \"simplified\")\n",
    "\n",
    "\n",
    "\n",
    "\n",
    "\n",
    "data_subset = dataset['train'].shuffle(seed=42).select(range(4500))  \n",
    "\n",
    "all_texts = data_subset['text']\n",
    "all_labels = data_subset['labels'] \n",
    "all_labels = [label[0] for label in all_labels]  \n",
    "all_labels = [emotion_dict[int(label)] for label in all_labels]\n",
    "\n",
    "\n",
    "train_texts, val_texts = all_texts[:4000], all_texts[4000:4500]\n",
    "train_labels, val_labels = all_labels[:4000], all_labels[4000:4500]\n",
    "print(f\"Loaded {len(train_texts)} training samples and {len(val_texts)} validation samples.\")"
   ]
  },
  {
   "cell_type": "code",
   "execution_count": null,
   "id": "79189ce0",
   "metadata": {},
   "outputs": [
    {
     "name": "stdout",
     "output_type": "stream",
     "text": [
      "Sample text: This way it becomes undeniably clear that it is the [NAME] who are the problem.\n",
      "Sample labels: neutral\n"
     ]
    }
   ],
   "source": [
    "\n",
    "import random\n",
    "random_index = random.randint(0, len(train_texts) - 1)\n",
    "print(f\"Sample text: {train_texts[random_index]}\")\n",
    "print(f\"Sample labels: {train_labels[random_index]}\")"
   ]
  },
  {
   "cell_type": "code",
   "execution_count": null,
   "id": "d582edf1",
   "metadata": {},
   "outputs": [
    {
     "name": "stdout",
     "output_type": "stream",
     "text": [
      "Starting training...\n",
      "Labels setup: 28 unique labels found: ['admiration', 'amusement', 'anger', 'annoyance', 'approval', 'caring', 'confusion', 'curiosity', 'desire', 'disappointment', 'disapproval', 'disgust', 'embarrassment', 'excitement', 'fear', 'gratitude', 'grief', 'joy', 'love', 'nervousness', 'neutral', 'optimism', 'pride', 'realization', 'relief', 'remorse', 'sadness', 'surprise']\n",
      "Warning: Could not compute ROC AUC. Error: Number of classes in y_true not equal to the number of columns in 'y_score'. Setting ROC AUC to 0.\n",
      "Epoch 1/4\n",
      "  Train Loss: 2.1916\n",
      "  Val Accuracy: 0.4800\n",
      "  Val F1 Macro: 0.2748\n",
      "  Val ROC AUC (Macro OVR): 0.0000\n",
      "  New best model saved with F1 Macro: 0.2748\n",
      "Warning: Could not compute ROC AUC. Error: Number of classes in y_true not equal to the number of columns in 'y_score'. Setting ROC AUC to 0.\n",
      "Epoch 2/4\n",
      "  Train Loss: 1.5111\n",
      "  Val Accuracy: 0.4560\n",
      "  Val F1 Macro: 0.2713\n",
      "  Val ROC AUC (Macro OVR): 0.0000\n",
      "Warning: Could not compute ROC AUC. Error: Number of classes in y_true not equal to the number of columns in 'y_score'. Setting ROC AUC to 0.\n",
      "Epoch 3/4\n",
      "  Train Loss: 0.9935\n",
      "  Val Accuracy: 0.4720\n",
      "  Val F1 Macro: 0.3430\n",
      "  Val ROC AUC (Macro OVR): 0.0000\n",
      "  New best model saved with F1 Macro: 0.3430\n",
      "Warning: Could not compute ROC AUC. Error: Number of classes in y_true not equal to the number of columns in 'y_score'. Setting ROC AUC to 0.\n",
      "Epoch 4/4\n",
      "  Train Loss: 0.5955\n",
      "  Val Accuracy: 0.4320\n",
      "  Val F1 Macro: 0.3145\n",
      "  Val ROC AUC (Macro OVR): 0.0000\n",
      "Training finished. Loading best model state.\n"
     ]
    }
   ],
   "source": [
    "\n",
    "\n",
    "\n",
    "print(\"Starting training...\")\n",
    "classifier.train(\n",
    "    train_texts, train_labels,\n",
    "    val_texts, val_labels,\n",
    "    learning_rate=0.0001,\n",
    "    epochs=4,  \n",
    "    batch_size=16  \n",
    ")"
   ]
  },
  {
   "cell_type": "code",
   "execution_count": 9,
   "id": "ea598fbe",
   "metadata": {},
   "outputs": [
    {
     "name": "stdout",
     "output_type": "stream",
     "text": [
      "Predicted labels for 'i want to cry, depression is coming': {'sadness': 0.7989416122436523}\n"
     ]
    }
   ],
   "source": [
    "\n",
    "\n",
    "#test the model on example text\n",
    "example_text = \"i want to cry, depression is coming\"\n",
    "predicted_labels = classifier.predict([example_text])\n",
    "print(f\"Predicted labels for '{example_text}': {predicted_labels}\")"
   ]
  },
  {
   "cell_type": "code",
   "execution_count": null,
   "id": "5ed1c4b4",
   "metadata": {},
   "outputs": [
    {
     "name": "stdout",
     "output_type": "stream",
     "text": [
      "Generating SHAP explanation...\n"
     ]
    },
    {
     "ename": "NameError",
     "evalue": "name 'test_text' is not defined",
     "output_type": "error",
     "traceback": [
      "\u001b[31m---------------------------------------------------------------------------\u001b[39m",
      "\u001b[31mNameError\u001b[39m                                 Traceback (most recent call last)",
      "\u001b[36mCell\u001b[39m\u001b[36m \u001b[39m\u001b[32mIn[8]\u001b[39m\u001b[32m, line 3\u001b[39m\n\u001b[32m      1\u001b[39m \u001b[38;5;66;03m# 6. Show SHAP explanation (for one example)\u001b[39;00m\n\u001b[32m      2\u001b[39m \u001b[38;5;28mprint\u001b[39m(\u001b[33m\"\u001b[39m\u001b[33mGenerating SHAP explanation...\u001b[39m\u001b[33m\"\u001b[39m)\n\u001b[32m----> \u001b[39m\u001b[32m3\u001b[39m shap_explanation = classifier.explain_shap(\u001b[43mtest_text\u001b[49m)\n\u001b[32m      4\u001b[39m shap.plots.text(shap_explanation)\n",
      "\u001b[31mNameError\u001b[39m: name 'test_text' is not defined"
     ]
    }
   ],
   "source": [
    "# # 6. Show SHAP explanation (for one example)\n",
    "# print(\"Generating SHAP explanation...\")\n",
    "# shap_explanation = classifier.explain_shap(test_text)\n",
    "# shap.plots.text(shap_explanation)\n"
   ]
  },
  {
   "cell_type": "code",
   "execution_count": null,
   "id": "6dd96dce",
   "metadata": {},
   "outputs": [],
   "source": [
    "\n",
    "# # 7. Show LIME explanation\n",
    "# print(\"\\nGenerating LIME explanation...\")\n",
    "# lime_explanation = classifier.explain_lime(test_text)\n",
    "# lime_explanation.show_in_notebook()\n"
   ]
  }
 ],
 "metadata": {
  "kernelspec": {
   "display_name": ".venv",
   "language": "python",
   "name": "python3"
  },
  "language_info": {
   "codemirror_mode": {
    "name": "ipython",
    "version": 3
   },
   "file_extension": ".py",
   "mimetype": "text/x-python",
   "name": "python",
   "nbconvert_exporter": "python",
   "pygments_lexer": "ipython3",
   "version": "3.11.0"
  }
 },
 "nbformat": 4,
 "nbformat_minor": 5
}
