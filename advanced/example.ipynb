{
 "cells": [
  {
   "cell_type": "code",
   "execution_count": null,
   "id": "442aca8c",
   "metadata": {},
   "outputs": [
    {
     "name": "stdout",
     "output_type": "stream",
     "text": [
      "Labels setup: 28 unique labels found: ['admiration', 'amusement', 'anger', 'annoyance', 'approval', 'caring', 'confusion', 'curiosity', 'desire', 'disappointment', 'disapproval', 'disgust', 'embarrassment', 'excitement', 'fear', 'gratitude', 'grief', 'joy', 'love', 'nervousness', 'neutral', 'optimism', 'pride', 'realization', 'relief', 'remorse', 'sadness', 'surprise']\n",
      "Tekst: 'i want to cry, depression is coming, life is worth nothing'\n",
      "Przewidywane emocje: {'disappointment': 0.7149401307106018}\n"
     ]
    }
   ],
   "source": [
    "from custom_model import EmotionClassifier\n",
    "from custom_model import EmotionBERT\n",
    "import torch\n",
    "\n",
    "def main():\n",
    "    \n",
    "    classifier = EmotionClassifier(device='cpu')\n",
    "    \n",
    "    \n",
    "    try:\n",
    "        \n",
    "        with open(\"dict.txt\", \"r\") as f:\n",
    "            emotion_labels = [line.strip() for line in f]\n",
    "        \n",
    "        \n",
    "        classifier._setup_labels(emotion_labels)\n",
    "        \n",
    "        \n",
    "        classifier.model = EmotionBERT(n_classes=len(emotion_labels))\n",
    "        \n",
    "        \n",
    "        classifier.model.load_state_dict(torch.load('best_model_state.pth'))\n",
    "        \n",
    "        \n",
    "        example_text = \"i want to cry, depression is coming, life is worth nothing\"\n",
    "        predicted_labels = classifier.predict(example_text)\n",
    "        \n",
    "        print(f\"Tekst: '{example_text}'\")\n",
    "        print(f\"Przewidywane emocje: {predicted_labels}\")\n",
    "        \n",
    "    except FileNotFoundError:\n",
    "        print(\"Błąd: Nie znaleziono pliku modelu 'best_model_state.pth' lub 'dict.txt'\")\n",
    "    except Exception as e:\n",
    "        print(f\"Wystąpił błąd: {str(e)}\")\n",
    "\n",
    "if __name__ == \"__main__\":\n",
    "    main()"
   ]
  }
 ],
 "metadata": {
  "kernelspec": {
   "display_name": ".venv",
   "language": "python",
   "name": "python3"
  },
  "language_info": {
   "codemirror_mode": {
    "name": "ipython",
    "version": 3
   },
   "file_extension": ".py",
   "mimetype": "text/x-python",
   "name": "python",
   "nbconvert_exporter": "python",
   "pygments_lexer": "ipython3",
   "version": "3.11.0"
  }
 },
 "nbformat": 4,
 "nbformat_minor": 5
}
